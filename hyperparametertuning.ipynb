{
 "cells": [
  {
   "cell_type": "code",
   "execution_count": 51,
   "id": "e49c0ecc",
   "metadata": {},
   "outputs": [],
   "source": [
    "from sklearn.datasets import load_digits\n",
    "from sklearn.model_selection import cross_val_score\n",
    "from sklearn.naive_bayes import MultinomialNB\n",
    "from sklearn.tree import DecisionTreeClassifier\n",
    "from sklearn.ensemble import RandomForestClassifier\n",
    "from sklearn.linear_model import LogisticRegression\n",
    "from sklearn.model_selection import GridSearchCV\n",
    "import pandas as pd\n",
    "import warnings\n",
    "\n",
    "warnings.filterwarnings('ignore')"
   ]
  },
  {
   "cell_type": "code",
   "execution_count": 52,
   "id": "f9dd4b3d",
   "metadata": {},
   "outputs": [],
   "source": [
    "digits= load_digits()"
   ]
  },
  {
   "cell_type": "code",
   "execution_count": 53,
   "id": "6d34cdb9",
   "metadata": {},
   "outputs": [],
   "source": [
    "model_params = {\n",
    "    'MultinomialNB': {\n",
    "        'model': MultinomialNB(),\n",
    "        'params': {\n",
    "            'alpha': [0.1, 0.5, 1.0, 2.0],\n",
    "            'fit_prior': [True, False]\n",
    "        }\n",
    "    },\n",
    "    'DecisionTreeClassifier': {\n",
    "        'model': DecisionTreeClassifier(),\n",
    "        'params': {\n",
    "            'criterion': ['gini', 'entropy'],\n",
    "            'max_depth': [None, 10, 20, 30],\n",
    "            'min_samples_split': [2, 5, 10]\n",
    "        }\n",
    "    },\n",
    "    'RandomForestClassifier': {\n",
    "        'model': RandomForestClassifier(),\n",
    "        'params': {\n",
    "            'n_estimators': [50, 100, 200],\n",
    "            'criterion': ['gini', 'entropy'],\n",
    "        }\n",
    "    },\n",
    "    'LogisticRegression': {\n",
    "        'model': LogisticRegression(),\n",
    "        'params': {\n",
    "            'penalty': ['l1', 'l2'],\n",
    "            'C': [0.1, 1.0, 10.0],\n",
    "            'solver': ['liblinear', 'saga']\n",
    "        }\n",
    "    }\n",
    "}"
   ]
  },
  {
   "cell_type": "code",
   "execution_count": 54,
   "id": "539cb4f2",
   "metadata": {},
   "outputs": [
    {
     "name": "stdout",
     "output_type": "stream",
     "text": [
      "                       best_score  \\\n",
      "MultinomialNB            0.871464   \n",
      "DecisionTreeClassifier    0.80803   \n",
      "RandomForestClassifier   0.942696   \n",
      "LogisticRegression       0.932685   \n",
      "\n",
      "                                                              best_params  \n",
      "MultinomialNB                           {'alpha': 2.0, 'fit_prior': True}  \n",
      "DecisionTreeClassifier  {'criterion': 'entropy', 'max_depth': None, 'm...  \n",
      "RandomForestClassifier         {'criterion': 'gini', 'n_estimators': 200}  \n",
      "LogisticRegression          {'C': 0.1, 'penalty': 'l1', 'solver': 'saga'}  \n"
     ]
    }
   ],
   "source": [
    "results = {}\n",
    "for model_name, mp in model_params.items():\n",
    "    clf = GridSearchCV(mp['model'], param_grid=mp['params'], cv=5)\n",
    "    clf.fit(digits.data, digits.target)\n",
    "    results[model_name] = {\n",
    "        'best_score': clf.best_score_,\n",
    "        'best_params': clf.best_params_\n",
    "    }\n",
    "result = pd.DataFrame(results).T[['best_score', 'best_params']]\n",
    "result\n",
    "print(result)"
   ]
  },
  {
   "cell_type": "code",
   "execution_count": null,
   "id": "408f724e",
   "metadata": {},
   "outputs": [],
   "source": []
  },
  {
   "cell_type": "code",
   "execution_count": null,
   "id": "8bc92439",
   "metadata": {},
   "outputs": [],
   "source": []
  },
  {
   "cell_type": "code",
   "execution_count": null,
   "id": "83229038",
   "metadata": {},
   "outputs": [],
   "source": []
  },
  {
   "cell_type": "code",
   "execution_count": null,
   "id": "5892ee49",
   "metadata": {},
   "outputs": [],
   "source": []
  },
  {
   "cell_type": "code",
   "execution_count": null,
   "id": "d496df07",
   "metadata": {},
   "outputs": [],
   "source": []
  }
 ],
 "metadata": {
  "kernelspec": {
   "display_name": "Python 3",
   "language": "python",
   "name": "python3"
  },
  "language_info": {
   "codemirror_mode": {
    "name": "ipython",
    "version": 3
   },
   "file_extension": ".py",
   "mimetype": "text/x-python",
   "name": "python",
   "nbconvert_exporter": "python",
   "pygments_lexer": "ipython3",
   "version": "3.12.0"
  }
 },
 "nbformat": 4,
 "nbformat_minor": 5
}
